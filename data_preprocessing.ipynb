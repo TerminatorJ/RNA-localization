{
 "cells": [
  {
   "cell_type": "code",
   "execution_count": 29,
   "metadata": {},
   "outputs": [],
   "source": [
    "import pandas as pd\n",
    "import numpy as np\n",
    "import numpy as np\n",
    "import torch"
   ]
  },
  {
   "attachments": {},
   "cell_type": "markdown",
   "metadata": {},
   "source": [
    "xcx \n",
    "\n"
   ]
  },
  {
   "attachments": {},
   "cell_type": "markdown",
   "metadata": {},
   "source": [
    "Testing the ratio of the test data"
   ]
  },
  {
   "cell_type": "code",
   "execution_count": 30,
   "metadata": {},
   "outputs": [
    {
     "data": {
      "text/plain": [
       "array([0.68902966, 0.99193781, 0.13532969, 0.55773107, 0.30175641,\n",
       "       0.18715808, 0.11488627])"
      ]
     },
     "execution_count": 30,
     "metadata": {},
     "output_type": "execute_result"
    }
   ],
   "source": [
    "#loading the benchmark dataset -- training data\n",
    "y = np.load(\"/home/sxr280/DeepRBPLoc/testdata/Test_fold0_y.npy\")\n",
    "test_num = y.shape[0]\n",
    "np.sum(y, axis=0)/test_num"
   ]
  },
  {
   "attachments": {},
   "cell_type": "markdown",
   "metadata": {},
   "source": [
    "Loading all the data in one line"
   ]
  },
  {
   "cell_type": "code",
   "execution_count": 31,
   "metadata": {},
   "outputs": [
    {
     "name": "stderr",
     "output_type": "stream",
     "text": [
      "/tmp/ipykernel_2454747/93554179.py:1: DtypeWarning: Columns (8) have mixed types. Specify dtype option on import or set low_memory=False.\n",
      "  all_data = pd.read_table(\"./All_RNA_subcellular_localization_data.txt\", sep = \"\\t\")\n"
     ]
    }
   ],
   "source": [
    "all_data = pd.read_table(\"./All_RNA_subcellular_localization_data.txt\", sep = \"\\t\")\n",
    "\n"
   ]
  },
  {
   "attachments": {},
   "cell_type": "markdown",
   "metadata": {},
   "source": [
    "To see how many data we have in total for Human"
   ]
  },
  {
   "cell_type": "code",
   "execution_count": 32,
   "metadata": {},
   "outputs": [
    {
     "name": "stdout",
     "output_type": "stream",
     "text": [
      "The human dataset are shown as below:\n",
      "Exosome: 110142, they come from {'circRNA': 58334, 'mRNA': 17935, 'piRNA': 10438, 'rRNA': 6565, 'lncRNA': 6411, 'miRNA': 6150, 'snRNA': 1773, 'Y RNA': 1168, 'snoRNA': 820, 'tRNA': 519, 'pseudo': 21, 'ncRNA': 5, 'scRNA': 2, 'lincRNA': 1}\n",
      "Microvesicle: 24921, they come from {'piRNA': 10400, 'rRNA': 6544, 'miRNA': 3886, 'snRNA': 1752, 'Y RNA': 1168, 'snoRNA': 738, 'tRNA': 432, 'pseudo': 1}\n",
      "Nucleus: 14414, they come from {'mRNA': 11627, 'miRNA': 1056, 'lncRNA': 858, 'circRNA': 279, 'snoRNA': 248, 'pseudo': 164, 'snRNA': 48, 'tRNA': 47, 'ncRNA': 33, 'mtRNA': 30, 'lincRNA': 7, 'rRNA': 5, 'scaRNA': 4, 'Y RNA': 4, 'vRNA': 3, 'unclassified RNA': 1}\n",
      "Cytosol: 12133, they come from {'mRNA': 11324, 'circRNA': 421, 'lncRNA': 282, 'pseudo': 47, 'ncRNA': 37, 'lincRNA': 7, 'snoRNA': 7, 'miRNA': 4, 'other': 3, 'rRNA': 1}\n",
      "Chromatin: 8027, they come from {'mRNA': 7562, 'lncRNA': 416, 'circRNA': 46, 'ncRNA': 2, 'miRNA': 1}\n",
      "Nucleoplasm: 7970, they come from {'mRNA': 7483, 'lncRNA': 437, 'circRNA': 47, 'snRNA': 2, 'snoRNA': 1}\n",
      "Nucleolus: 6348, they come from {'mRNA': 5856, 'lncRNA': 295, 'miRNA': 78, 'circRNA': 61, 'snoRNA': 58}\n",
      "Ribosome: 6190, they come from {'mRNA': 6121, 'lincRNA': 22, 'ncRNA': 19, 'antisense RNA': 10, 'processed_transcript': 6, 'pseudo': 5, 'miRNA': 3, 'lncRNA': 2, 'snoRNA': 1, 'rRNA': 1}\n",
      "Membrane: 3556, they come from {'mRNA': 3257, 'circRNA': 164, 'lncRNA': 135}\n",
      "Cytoplasm: 2785, they come from {'mRNA': 1575, 'miRNA': 683, 'lncRNA': 224, 'circRNA': 78, 'snoRNA': 67, 'tRNA': 50, 'mtRNA': 31, 'ncRNA': 26, 'pseudo': 14, 'rRNA': 9, 'snRNA': 9, 'lincRNA': 7, 'Y RNA': 4, 'vRNA': 3, 'scRNA': 2, 'unclassified RNA': 2, 'scaRNA': 1}\n",
      "Endoplasmic reticulum: 2083, they come from {'mRNA': 2068, 'ncRNA': 5, 'pseudo': 5, 'miRNA': 2, 'lncRNA': 1, 'lincRNA': 1, 'rRNA': 1}\n",
      "Insoluble cytoplasm: 1487, they come from {'mRNA': 1397, 'lncRNA': 47, 'circRNA': 43}\n",
      "Mitochondrion: 669, they come from {'miRNA': 611, 'piRNA': 29, 'mRNA': 18, 'lncRNA': 5, 'rRNA': 4, 'ncRNA': 1, 'tRNA': 1}\n",
      "Ribosome-free cytosol: 519, they come from {'mRNA': 396, 'pseudo': 54, 'snoRNA': 26, 'ncRNA': 13, 'lincRNA': 12, 'snRNA': 12, 'antisense RNA': 4, 'processed_transcript': 1, 'scRNA': 1}\n",
      "Nuclear: 152, they come from {'miRNA': 134, 'lncRNA': 7, 'mRNA': 5, 'snRNA': 3, 'snoRNA': 2, 'pseudo': 1}\n",
      "Extracellular vesicle: 99, they come from {'miRNA': 96, 'mRNA': 2, 'ncRNA': 1}\n",
      "Extracellular Vesicle: 29, they come from {'miRNA': 29}\n",
      "ER-bound polysome: 28, they come from {'mRNA': 28}\n",
      "Cytosolic polysome: 28, they come from {'mRNA': 28}\n",
      "Apoptotic body: 22, they come from {'miRNA': 22}\n",
      "Processing body: 11, they come from {'miRNA': 11}\n",
      "Polysome: 10, they come from {'mRNA': 6, 'miRNA': 4}\n",
      "Membrane-bound ribosome: 8, they come from {'mRNA': 8}\n",
      "Centrosome: 8, they come from {'mRNA': 8}\n",
      "Neurite: 6, they come from {'mRNA': 6}\n",
      "Plasma membrane vesicle: 5, they come from {'mRNA': 3, 'miRNA': 2}\n",
      "Nuclear speckle: 5, they come from {'lncRNA': 5}\n",
      "Plasma membrane: 5, they come from {'mRNA': 5}\n",
      "ER-bound ribosome: 5, they come from {'mRNA': 5}\n",
      "Axon: 5, they come from {'mRNA': 4, 'rRNA': 1}\n",
      "Perinuclear: 5, they come from {'mRNA': 4, 'lncRNA': 1}\n",
      "Cell leading edge: 4, they come from {'mRNA': 4}\n",
      "Lamellipodium: 4, they come from {'mRNA': 4}\n",
      "Cytosolic ribosome: 4, they come from {'mRNA': 4}\n",
      "Paraspeckle: 4, they come from {'lncRNA': 4}\n",
      "Endoplasmic reticulum membrane: 4, they come from {'miRNA': 4}\n",
      "RNA-rich region: 3, they come from {'mRNA': 3}\n",
      "Speckle periphery: 3, they come from {'snRNA': 2, 'lncRNA': 1}\n",
      "Cell body: 2, they come from {'miRNA': 1, 'ncRNA': 1}\n",
      "Dendrite: 2, they come from {'mRNA': 2}\n",
      "Stress granule: 2, they come from {'miRNA': 2}\n",
      "Paraspeckles in the nucleus: 2, they come from {'lincRNA': 2}\n",
      "P-body: 2, they come from {'miRNA': 1, 'ncRNA': 1}\n",
      "Cytoplasmic stress granules: 1, they come from {'unclassified RNA': 1}\n",
      "Microvilli: 1, they come from {'mRNA': 1}\n",
      "Inner nuclear membrane: 1, they come from {'mRNA': 1}\n",
      "Outer nuclear membrane: 1, they come from {'mRNA': 1}\n",
      "Soma: 1, they come from {'lncRNA': 1}\n",
      "Nuclear vesicle: 1, they come from {'mRNA': 1}\n",
      "Granular endoplasmic reticulum: 1, they come from {'mRNA': 1}\n",
      "Nuclear envelope: 1, they come from {'mRNA': 1}\n",
      "Cilia: 1, they come from {'mRNA': 1}\n",
      "Nuclear(exclusion from nucleoli): 1, they come from {'lncRNA': 1}\n",
      "Cell soma: 1, they come from {'mRNA': 1}\n",
      "Lysosome: 1, they come from {'miRNA': 1}\n",
      "Nuclear periphery: 1, they come from {'lncRNA': 1}\n",
      "Periphery of the nucleus: 1, they come from {'lncRNA': 1}\n",
      "Interior speckle: 1, they come from {'mRNA': 1}\n",
      "Nuclear membrane: 1, they come from {'lncRNA': 1}\n",
      "Microsome: 1, they come from {'lncRNA': 1}\n"
     ]
    }
   ],
   "source": [
    "#data glance\n",
    "ranked_locs = all_data[all_data[\"Species\"] == \"Homo sapiens\"][\"SubCellular_Localization\"].value_counts(ascending=False).index\n",
    "print(\"The human dataset are shown as below:\")\n",
    "for loc in ranked_locs:\n",
    "    human_data = all_data[all_data[\"Species\"] == \"Homo sapiens\"]\n",
    "    RNAs = dict(human_data[human_data[\"SubCellular_Localization\"] == loc][\"RNA_category\"].value_counts(ascending=False))\n",
    "    number = human_data[human_data[\"SubCellular_Localization\"] == loc].shape[0]\n",
    "    \n",
    "    print(\"%s: %s, they come from %s\" % (loc, number, RNAs))\n"
   ]
  },
  {
   "attachments": {},
   "cell_type": "markdown",
   "metadata": {},
   "source": [
    "how many data we have for Mouse"
   ]
  },
  {
   "cell_type": "code",
   "execution_count": 33,
   "metadata": {},
   "outputs": [
    {
     "name": "stdout",
     "output_type": "stream",
     "text": [
      "The mouse dataset has been shown as below\n",
      "Nucleus: 2660, they come from {'mRNA': 2380, 'lncRNA': 147, 'miRNA': 109, 'pseudo': 5, 'ncRNA': 4, 'snoRNA': 4, 'snRNA': 4, 'circRNA': 2, 'lincRNA': 1, 'rRNA': 1, 'DNA segment': 1, 'QTL': 1, 'unclassified RNA': 1}\n",
      "Exosome: 2014, they come from {'mRNA': 1092, 'miRNA': 840, 'lncRNA': 53, 'DNA segment': 20, 'pseudo': 6, 'unclassified RNA': 2, 'ncRNA': 1}\n",
      "Cytoplasm: 1688, they come from {'mRNA': 1582, 'lncRNA': 70, 'miRNA': 9, 'circRNA': 7, 'ncRNA': 5, 'pseudo': 5, 'piRNA': 4, 'rRNA': 3, 'lincRNA': 1, 'snRNA': 1, 'unknown': 1}\n",
      "Mitochondrion: 183, they come from {'miRNA': 179, 'mRNA': 2, 'lncRNA': 1, 'rRNA': 1}\n",
      "Axon: 154, they come from {'mRNA': 107, 'miRNA': 35, 'lncRNA': 7, 'rRNA': 4, 'snRNA': 1}\n",
      "Cell body: 80, they come from {'lncRNA': 33, 'mRNA': 28, 'miRNA': 16, 'ncRNA': 1, 'pseudo': 1, 'unclassified RNA': 1}\n",
      "Dendrite: 60, they come from {'mRNA': 55, 'miRNA': 4, 'ncRNA': 1}\n",
      "Synaptoneurosome: 50, they come from {'miRNA': 49, 'lncRNA': 1}\n",
      "Extracellular vesicle: 29, they come from {'miRNA': 22, 'tRNA': 7}\n",
      "Pseudopodium: 23, they come from {'mRNA': 23}\n",
      "Cytosol: 23, they come from {'mRNA': 14, 'lncRNA': 5, 'snoRNA': 4}\n",
      "Soma: 20, they come from {'mRNA': 13, 'lncRNA': 7}\n",
      "Chromatin: 14, they come from {'lncRNA': 12, 'mRNA': 1, 'pseudo': 1}\n",
      "Nucleolus: 12, they come from {'lncRNA': 4, 'piRNA': 4, 'miRNA': 2, 'rRNA': 2}\n",
      "Nuclear: 11, they come from {'snoRNA': 4, 'mRNA': 3, 'ncRNA': 2, 'miRNA': 1, 'lncRNA': 1}\n",
      "Synapse: 11, they come from {'mRNA': 10, 'snRNA': 1}\n",
      "Postsynaptic density: 11, they come from {'miRNA': 11}\n",
      "Growth cone: 10, they come from {'mRNA': 10}\n",
      "Microvesicle: 9, they come from {'miRNA': 8, 'snRNA': 1}\n",
      "Endoplasmic reticulum: 9, they come from {'mRNA': 9}\n",
      "ER-bound polysome: 8, they come from {'mRNA': 8}\n",
      "Cytosolic polysome: 8, they come from {'mRNA': 8}\n",
      "Ribosome: 7, they come from {'mRNA': 3, 'rRNA': 3, 'lncRNA': 1}\n",
      "Perinuclear: 6, they come from {'mRNA': 6}\n",
      "Inner nuclear layer: 5, they come from {'lncRNA': 3, 'mRNA': 2}\n",
      "Ganglion cell layer (GCL): 5, they come from {'lncRNA': 3, 'mRNA': 2}\n",
      "X chromosome: 5, they come from {'lncRNA': 5}\n",
      "Cell leading edge: 4, they come from {'mRNA': 4}\n",
      "Polysome: 3, they come from {'mRNA': 3}\n",
      "Tight Junction: 3, they come from {'mRNA': 3}\n",
      "Nucleolar precursor body periphery: 3, they come from {'rRNA': 3}\n",
      "Nucleoplasm: 3, they come from {'lncRNA': 3}\n",
      "Plasma membrane: 3, they come from {'unclassified RNA': 2, 'mRNA': 1}\n",
      "Paraspeckle: 3, they come from {'lncRNA': 2, 'mRNA': 1}\n",
      "Centrosome: 3, they come from {'mRNA': 2, 'miRNA': 1}\n",
      "Somatodendritic compartment: 3, they come from {'mRNA': 2, 'snRNA': 1}\n",
      "Leading edge of the lamellipodium: 2, they come from {'mRNA': 1, 'lncRNA': 1}\n",
      "Monosome: 2, they come from {'mRNA': 2}\n",
      "Synaptosome: 2, they come from {'mRNA': 1, 'rRNA': 1}\n",
      "Ribonucleic particles: 2, they come from {'mRNA': 2}\n",
      "Polysome bound fraction: 2, they come from {'mRNA': 1, 'circRNA': 1}\n",
      "Leading edge of the perinuclear: 2, they come from {'mRNA': 1, 'lncRNA': 1}\n",
      "Distal axon: 1, they come from {'mRNA': 1}\n",
      "Distal dendrite: 1, they come from {'mRNA': 1}\n",
      "Cell Process: 1, they come from {'mRNA': 1}\n",
      "Cell soma: 1, they come from {'mRNA': 1}\n",
      "Proximal axon: 1, they come from {'mRNA': 1}\n",
      "Neurite: 1, they come from {'mRNA': 1}\n",
      "Mitotic spindle: 1, they come from {'mRNA': 1}\n",
      "Tip of the acrosome: 1, they come from {'miRNA': 1}\n",
      "Autophagosome: 1, they come from {'miRNA': 1}\n",
      "Apical: 1, they come from {'mRNA': 1}\n",
      "Nuclear paraspeckle: 1, they come from {'lncRNA': 1}\n",
      "Lamellipodium: 1, they come from {'mRNA': 1}\n",
      "Endosome: 1, they come from {'unclassified RNA': 1}\n",
      "Perichromatin: 1, they come from {'lncRNA': 1}\n",
      "Nuclear matrix: 1, they come from {'lncRNA': 1}\n",
      "Nuclear RNA cloud: 1, they come from {'lncRNA': 1}\n",
      "Nuclear speckle: 1, they come from {'lncRNA': 1}\n",
      "Lysosome: 1, they come from {'miRNA': 1}\n",
      "Cytoplasmic foci: 1, they come from {'miRNA': 1}\n",
      "Golgi apparatus: 1, they come from {'mRNA': 1}\n",
      "Rough endoplasmic reticulum: 1, they come from {'mRNA': 1}\n",
      "Peroxisome: 1, they come from {'mRNA': 1}\n",
      "Apical cytoplasm: 1, they come from {'mRNA': 1}\n",
      "Membrane: 1, they come from {'mRNA': 1}\n",
      "Pronucleus: 1, they come from {'rRNA': 1}\n"
     ]
    }
   ],
   "source": [
    "#data glance\n",
    "ranked_locs = all_data[all_data[\"Species\"] == \"Mus musculus\"][\"SubCellular_Localization\"].value_counts(ascending=False).index\n",
    "print(\"The mouse dataset has been shown as below\")\n",
    "for loc in ranked_locs:\n",
    "    mouse_data = all_data[all_data[\"Species\"] == \"Mus musculus\"]\n",
    "    RNAs = dict(mouse_data[mouse_data[\"SubCellular_Localization\"] == loc][\"RNA_category\"].value_counts(ascending=False))\n",
    "    number = mouse_data[mouse_data[\"SubCellular_Localization\"] == loc].shape[0]\n",
    "    print(\"%s: %s, they come from %s\" % (loc, number, RNAs))\n"
   ]
  },
  {
   "attachments": {},
   "cell_type": "markdown",
   "metadata": {},
   "source": [
    "Extract the lncRNA data set from human set\n",
    "- the finalized fasta file must be like >1100000,ACCNUM:NM_001672,Gene_ID:434,Gene_Name:ASIP\n",
    "- filter the independent dataset"
   ]
  },
  {
   "cell_type": "code",
   "execution_count": 35,
   "metadata": {},
   "outputs": [],
   "source": [
    "def get_tag(label):\n",
    "    if label in [\"Nucleus\", \"Chromatin\" , \"Nucleoplasm\", \"Nucleolus\", \"Nuclear\"]:\n",
    "        label = \"Nucleus\"\n",
    "    labels = np.array([\"Nucleus\",\"Exosome\",\"Cytosol\",\"Cytoplasm\",\"Ribosome\",\"Membrane\",\"Endoplasmic reticulum\"])\n",
    "    locs = np.zeros(7)\n",
    "    y = np.array(labels == label, dtype = \"int\")  \n",
    "    # y_str = ''.join([str(i) for i in y])\n",
    "    return list(y)\n"
   ]
  },
  {
   "cell_type": "code",
   "execution_count": 36,
   "metadata": {},
   "outputs": [
    {
     "name": "stdout",
     "output_type": "stream",
     "text": [
      "Counting the localization in the lncRNA: SubCellular_Localization\n",
      "Exosome        6412\n",
      "Nucleus         865\n",
      "Nucleoplasm     437\n",
      "Chromatin       416\n",
      "Nucleolus       295\n",
      "Cytosol         289\n",
      "Cytoplasm       231\n",
      "Ribosome         24\n",
      "Nuclear           7\n",
      "Name: count, dtype: int64\n",
      "Number of id to loc: 8837\n",
      "Number of non redundant id to loc: 6554\n",
      "Number of nan to loc: 139\n",
      "Number of weired to loc: 139\n",
      "Number of non redundant weired to loc: 110\n"
     ]
    }
   ],
   "source": [
    "human_lnc = human_data[human_data[\"SubCellular_Localization\"].isin([\"Nucleus\", \"Chromatin\" , \"Nucleoplasm\", \"Nucleolus\", \"Nuclear\",\"Exosome\",\"Cytosol\",\"Cytoplasm\",\"Ribosome\"]) & human_data[\"RNA_category\"].isin([\"lncRNA\",\"lincRNA\"])]\n",
    "print(\"Counting the localization in the lncRNA:\", human_lnc[\"SubCellular_Localization\"].value_counts())\n",
    "\n",
    "geneid_loc = {}\n",
    "name_loc = {}\n",
    "geneid_name = {}\n",
    "all_c = 0\n",
    "nan_c = 0\n",
    "id_c = 0\n",
    "id_symbol = {}\n",
    "# name_id = {}\n",
    "# name_symbol = {}\n",
    "for i in range(human_lnc.shape[0]):\n",
    "    gene_name = list(human_lnc[\"Gene_Name\"])[i]\n",
    "    id_full = list(human_lnc[\"Gene_ID\"])[i]\n",
    "    loc = list(human_lnc[\"SubCellular_Localization\"])[i]\n",
    "    try:\n",
    "        gene_id = id_full.split(\":\")[1]\n",
    "        id_c+=1\n",
    "        gene_symbol = list(human_lnc[\"Gene_symbol\"])[i]\n",
    "        id_symbol[gene_id] = gene_symbol\n",
    "        geneid_loc.setdefault(gene_id,[]).append(get_tag(loc))\n",
    "        geneid_name.setdefault(gene_id,[]).append(gene_name)# add to info later\n",
    "    except:\n",
    "        all_c+=1\n",
    "        if str(id_full) == \"nan\":\n",
    "            nan_c+=1\n",
    "        # print(gene_name)\n",
    "        name_loc[gene_name] =  loc\n",
    "     \n",
    "print(\"Number of id to loc:\", id_c)\n",
    "print(\"Number of non redundant id to loc:\", len(list(geneid_loc.keys())))\n",
    "print(\"Number of nan to loc:\", nan_c)\n",
    "print(\"Number of weired to loc:\", all_c)\n",
    "print(\"Number of non redundant weired to loc:\", len(list(name_loc.keys())))\n",
    "\n",
    "    \n",
    "\n"
   ]
  },
  {
   "attachments": {},
   "cell_type": "markdown",
   "metadata": {},
   "source": [
    "Getting the main gene name based on alias names\n",
    "- From gene id to main name in order to get lncRNA sequence\n",
    "- Weired lncRNAs need to be filtered"
   ]
  },
  {
   "cell_type": "code",
   "execution_count": 39,
   "metadata": {},
   "outputs": [
    {
     "name": "stdout",
     "output_type": "stream",
     "text": [
      "URS00000596CE_9606|URS0000E60B12_9606\n",
      "URS00001710A5_9606\n",
      "URS00001D7589_9606\n",
      "URS00002658F8_9606\n",
      "URS00003F999A_9606\n",
      "URS0000432E9E_9606\n",
      "URS00004F6E74_9606\n",
      "URS000056E99A_9606\n",
      "URS000075A607_9606\n",
      "URS000075AA5E_9606\n",
      "URS000075ABDA_9606\n",
      "URS000075ACB7_9606\n",
      "URS000075B2F4_9606\n",
      "URS000075C35D_9606\n",
      "URS000075C45D_9606\n",
      "URS000075C5A5_9606\n",
      "URS000075C5BA_9606\n",
      "URS000075CADA_9606\n",
      "URS000075CE23_9606\n",
      "URS000075D3C8_9606\n",
      "URS000075DDC2_9606\n",
      "URS000075DFD6_9606\n",
      "URS000075E104_9606\n",
      "URS000075E59E_9606\n",
      "URS000075EB39_9606\n",
      "URS000075EC28_9606\n",
      "URS000075EDB6_9606\n",
      "URS00008B6411_9606|URS00008BC2D0_9606\n",
      "URS00008B7A48_9606|URS00008B5992_9606|URS00008B6A29_9606\n",
      "URS00008BA37E_9606|URS00008C0861_9606\n",
      "URS00008BC0BF_9606|URS00008B7107_9606\n",
      "URS00008BC580_9606|URS00008B2192_9606\n",
      "URS00008BD329_9606|URS00008BB712_9606|URS00008B9C9E_9606\n",
      "URS00008C0E8D_9606|URS00008C1423_9606|URS00008BA8BA_9606|URS00008BB95B_9606\n",
      "URS00008C1D94_9606\n",
      "URS00009BABFB_9606|URS0000D5DA87_9606|URS00009C4760_9606|URS00009BD6CA_9606|URS0000D5C4AD_9606|URS0000D5E3EF_9606|URS00009B08C2_9606\n",
      "URS0000A765D3_9606\n",
      "URS0000BC45DF_9606\n",
      "URS0000CCE0C9_9606\n",
      "URS0000CCE13C_9606\n",
      "URS00021231E0_9606\n",
      "130057\n",
      "285182\n",
      "URS0000734D8F_9606\n",
      "URS0000759CF4_9606\n",
      "URS000075AA67_9606\n",
      "URS000075CA4D_9606\n",
      "URS000075DA25_9606\n",
      "101928017\n",
      "102902672\n",
      "348738\n",
      "140849\n",
      "100131096\n",
      "120883616\n",
      "107986114\n",
      "25784\n",
      "100506377\n",
      "100507113\n",
      "100652885\n",
      "100874005\n",
      "101927964\n",
      "101929665\n",
      "101929759\n",
      "102723489\n",
      "102724057\n",
      "105369614\n",
      "105376171\n",
      "105376261\n",
      "106478954\n",
      "107080623\n",
      "107986115\n",
      "107987290\n",
      "109729113\n",
      "112267895\n",
      "120883613\n",
      "25787\n",
      "283174\n",
      "3262\n",
      "388289\n",
      "441123\n",
      "643763\n",
      "771731\n",
      "92973\n",
      "83 genes cannot get the gene name!!!\n",
      "6554 genes are successful to fetch the gene names\n"
     ]
    }
   ],
   "source": [
    "gene_info = pd.read_table(\"Homo_sapiens.gene_info\", index_col=0)\n",
    "symbol2id = {}\n",
    "id2name = {}\n",
    "name2id = {}\n",
    "# gene_info[\"GeneID\"][:10]\n",
    "name_failed = 0 \n",
    "\n",
    "for geneid in geneid_loc.keys():\n",
    "    # name = gene_info[gene_info[\"GeneID\"].isin([int(geneid)])][\"Symbol\"]\n",
    "    # id2name[geneid] = name.values\n",
    "    # name2id[name] = geneid\n",
    "    try:\n",
    "        name = gene_info[gene_info[\"GeneID\"].isin([int(geneid)])][\"Symbol\"]\n",
    "        id2name[geneid] = name.values[0]\n",
    "        name2id[name.values[0]] = geneid\n",
    "    except:\n",
    "        # print(geneid, \"cannot get the gene name!!!\")\n",
    "        print(geneid)\n",
    "        # id_symbol\n",
    "        # id2name[geneid] = id_symbol[geneid]\n",
    "        name_failed += 1\n",
    "\n",
    "print(name_failed, \"genes cannot get the gene name!!!\")\n",
    "print(len(list(geneid_loc.keys())), \"genes are successful to fetch the gene names\")\n"
   ]
  },
  {
   "attachments": {},
   "cell_type": "markdown",
   "metadata": {},
   "source": [
    "Adding the multitag to each lncRNA"
   ]
  },
  {
   "cell_type": "code",
   "execution_count": 40,
   "metadata": {},
   "outputs": [],
   "source": [
    "tags = \"\"\n",
    "id_tags = {}\n",
    "for geneid in list(geneid_loc.keys()):\n",
    "    loc_ary = np.array(geneid_loc[geneid])\n",
    "    multi_loc = loc_ary.sum(axis=0)\n",
    "    multi_loc = np.array(multi_loc, dtype = \"bool\")\n",
    "    multi_loc = np.array(multi_loc, dtype = \"int\")\n",
    "    multi_loc = np.array(multi_loc, dtype = \"str\")\n",
    "    multi_loc_tag = \"\".join(list(multi_loc))\n",
    "    gene_names = \"|\".join(list(set(geneid_name[geneid])))\n",
    "    tags += \">\" + multi_loc_tag + \",\" + \"Gene_ID:\" + str(geneid) + \",\" + \"Gene_Name:\" + gene_names + \"\\n\"\n",
    "    tag = \">\" + multi_loc_tag + \",\" + \"Gene_ID:\" + str(geneid) + \",\" + \"Gene_Name:\" + gene_names + \"\\n\"\n",
    "    id_tags[geneid] = tag.strip()\n",
    "with open(\"./lncRNA_all_data_id.txt\", \"w\") as f1:\n",
    "    f1.write(tags)\n",
    "    "
   ]
  },
  {
   "attachments": {},
   "cell_type": "markdown",
   "metadata": {},
   "source": [
    "In order to match the sequence with the independent lncRNA dataset, we need to get access to gff file to get the gene sequences and gene intervals.\n",
    "- Get the sequence by RNALocatev2 first.\n",
    "- Try to get access via file match (NCBI)\n",
    "- For those unable to be done on NCBI can be retrived from ensemble ncRNA database"
   ]
  },
  {
   "cell_type": "code",
   "execution_count": 86,
   "metadata": {},
   "outputs": [
    {
     "name": "stdout",
     "output_type": "stream",
     "text": [
      "MROCKI\n",
      "285758\n",
      ">0100000,Gene_ID:285758,Gene_Name:LINC01268\n",
      ">0100000,Gene_ID:285758,Gene_Name:LINC01268\n",
      ">0100000,Gene_ID:285758,Gene_Name:LINC01268\n"
     ]
    }
   ],
   "source": [
    "lnc_seq = pd.read_table(\"./All RNA sequence/human_RNA_sequence.txt\")\n",
    "# lnc_str = \"\"\n",
    "got_id = {}\n",
    "# non_got_id = []\n",
    "name_seq = {}\n",
    "name_info = {}\n",
    "for i in range(lnc_seq.shape[0]):\n",
    "    gene_id = lnc_seq[\"Gene_ID\"][i].split(\":\")[1]\n",
    "    seq = lnc_seq[\"Sequence\"][i]\n",
    "    if gene_id in list(id_tags.keys()):\n",
    "        # got_id[gene_id] = seq\n",
    "        gene_name = id2name[gene_id]\n",
    "        if gene_name == \"MROCKI\":\n",
    "            print(gene_name)\n",
    "            print(gene_id)\n",
    "            this_id = gene_id\n",
    "            print(id_tags[gene_id])\n",
    "        # print(gene_id)\n",
    "        # print(gene_name)\n",
    "        name_seq.setdefault(gene_name,[]).append(seq)\n",
    "        name_info.setdefault(gene_name,[]).append(id_tags[gene_id]+\"\\n\")\n",
    "        # lnc_str += id_tags[gene_id] + \"\\n\" + seq + \"\\n\"\n",
    "print(id_tags[\"285758\"])\n",
    "\n",
    "print(id_tags[this_id])\n",
    "\n",
    "\n",
    "\n",
    "\n"
   ]
  },
  {
   "cell_type": "code",
   "execution_count": null,
   "metadata": {},
   "outputs": [],
   "source": [
    "name_seq = {}\n",
    "name_info = {}\n",
    "map_c = 0\n",
    "import mmap\n",
    "with open(\"GRCh38_latest_rna.fna\", \"r\") as f1:\n",
    "    with mmap.mmap(f1.fileno(), 0, access=mmap.ACCESS_READ) as m:\n",
    "        gene_name = ''\n",
    "        for line in list(iter(m.readline, b''))[:100]:\n",
    "            line = line.decode(\"utf-8\")\n",
    "            if line.startswith(\">\") == True:\n",
    "\n",
    "                if gene_name != '':\n",
    "                    if gene_name in list(id2name.values()):\n",
    "                        name_seq.setdefault(gene_name,[]).append(seq)\n",
    "                        geneid = name2id[gene_name]\n",
    "                        name_info.setdefault(gene_name,[]).append(id_tags[geneid]+\",%s\\n\" % refinfo)\n",
    "                        map_c += 1\n",
    "                refinfo = line.split(\"\\n\")[0][1:]\n",
    "                # gene_name = line.split(\"(\")[1].split(\")\")[0]\n",
    "                gene_name = line.split(\",\")[0].split(\"(\")[-1].split(\")\")[0]\n",
    "                print(gene_name)\n",
    "                seq = \"\"\n",
    "            else:\n",
    "                seq += line.strip()\n",
    "print(map_c, \"genes are mapped to fna file\")\n",
    "print(len(list(name_seq.keys())) ,\"genes are mapped to fna file\")\n",
    "            \n",
    "\n",
    "       "
   ]
  },
  {
   "cell_type": "code",
   "execution_count": null,
   "metadata": {},
   "outputs": [],
   "source": []
  },
  {
   "cell_type": "code",
   "execution_count": null,
   "metadata": {},
   "outputs": [],
   "source": [
    "\n",
    "map_c = 0\n",
    "import mmap\n",
    "with open(\"Homo_sapiens.GRCh38.ncrna.fa\", \"r\") as f2:\n",
    "    with mmap.mmap(f2.fileno(), 0, access=mmap.ACCESS_READ) as m:\n",
    "        gene_name = ''\n",
    "        for line in list(iter(m.readline, b''))[:1000]:\n",
    "            line = line.decode(\"utf-8\")\n",
    "            if line.startswith(\">\") == True:\n",
    "\n",
    "                if gene_name != '':\n",
    "                    if gene_name in list(id2name.values()):\n",
    "                        name_seq.setdefault(gene_name,[]).append(seq)\n",
    "                        geneid = name2id[gene_name]\n",
    "                        name_info.setdefault(gene_name,[]).append(id_tags[geneid]+\",%s\\n\" % refinfo)\n",
    "                        map_c += 1\n",
    "                refinfo = line.split(\"\\n\")[0][1:]\n",
    "                # gene_name = line.split(\"(\")[1].split(\")\")[0]\n",
    "                gene_name = line.split(\"gene_symbol:\")[1].split(\" \")[0]\n",
    "                print(gene_name)\n",
    "                seq = \"\"\n",
    "            elif line.startswith(\"[\") == True:\n",
    "                continue\n",
    "            else:\n",
    "                seq += line.strip()\n",
    "print(map_c, \"genes are mapped to fna file\")\n",
    "print(len(list(name_seq.keys())) ,\"genes are mapped to fna file\")"
   ]
  },
  {
   "cell_type": "code",
   "execution_count": null,
   "metadata": {},
   "outputs": [],
   "source": [
    "items = \"\"\n",
    "for gene in name_seq.keys():\n",
    "    seq = name_seq[gene]\n",
    "    longest_seq = max(seq, key=len)\n",
    "    idx = seq.index(longest_seq)\n",
    "    info = name_info[gene]\n",
    "    longest_info = info[idx]\n",
    "    items += longest_info+longest_seq+\"\\n\"\n",
    "    \n",
    "\n",
    "with open(\"./lncRNA_all_data_seq.txt\", \"w\") as f1:\n",
    "    f1.write(items)\n",
    "    "
   ]
  },
  {
   "cell_type": "code",
   "execution_count": 55,
   "metadata": {},
   "outputs": [
    {
     "ename": "KeyError",
     "evalue": "'KIAA0125'",
     "output_type": "error",
     "traceback": [
      "\u001b[0;31m---------------------------------------------------------------------------\u001b[0m",
      "\u001b[0;31mKeyError\u001b[0m                                  Traceback (most recent call last)",
      "Cell \u001b[0;32mIn[55], line 1\u001b[0m\n\u001b[0;32m----> 1\u001b[0m name2id[\u001b[39m\"\u001b[39;49m\u001b[39mKIAA0125\u001b[39;49m\u001b[39m\"\u001b[39;49m]\n",
      "\u001b[0;31mKeyError\u001b[0m: 'KIAA0125'"
     ]
    }
   ],
   "source": [
    "name2id[\"KIAA0125\"]"
   ]
  },
  {
   "attachments": {},
   "cell_type": "markdown",
   "metadata": {},
   "source": [
    "Preprocessing the miRNA database\n"
   ]
  },
  {
   "cell_type": "code",
   "execution_count": 42,
   "metadata": {},
   "outputs": [],
   "source": [
    "with open(\"miRNA.dat\", \"r\") as f1:\n",
    "    cache = \"\"\n",
    "    line_c = 0\n",
    "    seq = \"\"\n",
    "    for line in f1.readlines():\n",
    "        if line_c == 1:\n",
    "\n",
    "            for i in line:\n",
    "                if i in [\"a\",\"u\",\"c\",\"g\",\"t\"]:\n",
    "                    i = i.upper()\n",
    "                    if i == \"U\":\n",
    "                        i = \"T\"\n",
    "                    seq += i\n",
    "            \n",
    "            if line.startswith(\"//\") == True:\n",
    "                # print(\"ok2\")\n",
    "                # print(seq)\n",
    "                cache = cache[:-1] #remove the \",\"\n",
    "                cache += \"\\n\" + seq + \"\\n\"\n",
    "                seq = \"\"\n",
    "                line_c = 0\n",
    "\n",
    "        # print(line)\n",
    "        if \"/accession=\" in line:\n",
    "            acc = line.split(\"/accession=\")[1].strip().replace(\"\\\"\",\"\")\n",
    "            if cache == \"\" or cache[-1] == \"\\n\":\n",
    "                cache += \">\" + acc + \",\"\n",
    "            elif cache[-1] == \",\": \n",
    "                cache += acc + \",\"\n",
    "            # cache += acc + \",\"\n",
    "        if \"/product=\" in line:\n",
    "            pro = line.split(\"/product=\")[1].strip().replace(\"\\\"\",\"\")\n",
    "            cache += pro + \",\"\n",
    "            # cache += pro + \"\\n\"\n",
    "        if \"Sequence \" in line:\n",
    "            # print(\"ok\")\n",
    "            line_c = 1\n",
    "            \n",
    "           \n",
    "        \n",
    "\n",
    "# print(cache)\n",
    "        \n"
   ]
  },
  {
   "cell_type": "code",
   "execution_count": 43,
   "metadata": {},
   "outputs": [],
   "source": [
    "with open(\"miRNA_ref.fasta\",\"w\") as f1:\n",
    "    f1.write(cache)"
   ]
  },
  {
   "cell_type": "code",
   "execution_count": 4,
   "metadata": {},
   "outputs": [
    {
     "data": {
      "text/plain": [
       "'aat'"
      ]
     },
     "execution_count": 4,
     "metadata": {},
     "output_type": "execute_result"
    }
   ],
   "source": [
    "\"\".join([i if i in [\"a\",\"u\",\"c\",\"g\",\"t\"] else \"\" for i in \"aadt\"])\n"
   ]
  },
  {
   "cell_type": "code",
   "execution_count": null,
   "metadata": {},
   "outputs": [],
   "source": []
  },
  {
   "cell_type": "code",
   "execution_count": null,
   "metadata": {},
   "outputs": [],
   "source": []
  },
  {
   "attachments": {},
   "cell_type": "markdown",
   "metadata": {},
   "source": [
    "Do the statistic of the the new generated lncRNA file"
   ]
  },
  {
   "cell_type": "code",
   "execution_count": 2,
   "metadata": {},
   "outputs": [],
   "source": [
    "import numpy as np\n",
    "import rpy2\n",
    "import pandas as pd\n",
    "colnames = [\"Gene_ID\",\"Gene_Name\", \"mRNA_type\",\"seq_length\", \"Nucleus\",\"Exosome\",\"Cytosol\",\"Cytoplasm\",\"Ribosome\",\"Membrane\",\"Endoplasmic reticulum\"]\n",
    "\n",
    "def get_data(RNAspcies = \"lncRNA\", fasta = \"lncRNA_all_data_seq.fasta\"):\n",
    "    unique_c = 0\n",
    "    multi_c = 0\n",
    "    comb = {}\n",
    "    types = []\n",
    "    i=0\n",
    "    tag_seq = {}\n",
    "    tag_dict = {}\n",
    "    tag_lst = []\n",
    "    with open(fasta) as f1:\n",
    "        tag_str = \"\"\n",
    "        for line in f1.readlines():\n",
    "            i+=1\n",
    "            if line.startswith(\">\") == True:\n",
    "                if tag_str != \"\" :\n",
    "                    tag_seq[tag_str] = len(seq)\n",
    "\n",
    "                    tag_lst.append([geneid]+[name]+[RNAspcies]+[len(seq)]+list(tag_str))\n",
    "\n",
    "                tag_str = line[1:].split(\",\")[0]\n",
    "                tag = np.array(list(line[1:].split(\",\")[0]), dtype = \"int\")\n",
    "                geneid = line.split(\",\")[1].split(\":\")[1]\n",
    "                name = line.split(\",\")[2].split(\":\")[1]\n",
    "                loc_num = tag.sum()\n",
    "\n",
    "                # print(comb.keys())\n",
    "                if tag in types:\n",
    "                    comb[tag_str]+=1\n",
    "                else:\n",
    "                    comb[tag_str]=1\n",
    "                types.append(tag_str)\n",
    "                if loc_num >= 2:\n",
    "                    multi_c += 1\n",
    "                elif loc_num == 1:\n",
    "                    unique_c += 1\n",
    "                \n",
    "\n",
    "                \n",
    "                seq = \"\"\n",
    "            else:\n",
    "                seq+=line.strip()\n",
    "    types_uni = set(types)\n",
    "\n",
    "    print(\"There are %s types of combination\" % len(list(types_uni)))\n",
    "    print(\"The total number of lncRNA data:\", multi_c+unique_c)\n",
    "    print(\"The number of multilabel lncRNA data:\", multi_c)\n",
    "    print(\"The number of unique lncRNA data:\", unique_c)\n",
    "\n",
    "    return tag_lst"
   ]
  },
  {
   "cell_type": "code",
   "execution_count": 3,
   "metadata": {},
   "outputs": [
    {
     "name": "stderr",
     "output_type": "stream",
     "text": [
      "/tmp/ipykernel_2497660/1950706340.py:31: FutureWarning: elementwise comparison failed; returning scalar instead, but in the future will perform elementwise comparison\n",
      "  if tag in types:\n"
     ]
    },
    {
     "name": "stdout",
     "output_type": "stream",
     "text": [
      "There are 21 types of combination\n",
      "The total number of lncRNA data: 3586\n",
      "The number of multilabel lncRNA data: 929\n",
      "The number of unique lncRNA data: 2657\n"
     ]
    },
    {
     "ename": "NameError",
     "evalue": "name 'colnames' is not defined",
     "output_type": "error",
     "traceback": [
      "\u001b[0;31m---------------------------------------------------------------------------\u001b[0m",
      "\u001b[0;31mNameError\u001b[0m                                 Traceback (most recent call last)",
      "Cell \u001b[0;32mIn[3], line 2\u001b[0m\n\u001b[1;32m      1\u001b[0m tag_lst \u001b[39m=\u001b[39m get_data(RNAspcies \u001b[39m=\u001b[39m \u001b[39m\"\u001b[39m\u001b[39mlncRNA\u001b[39m\u001b[39m\"\u001b[39m, fasta \u001b[39m=\u001b[39m \u001b[39m\"\u001b[39m\u001b[39mlncRNA_all_data_seq.fasta\u001b[39m\u001b[39m\"\u001b[39m)\n\u001b[0;32m----> 2\u001b[0m df \u001b[39m=\u001b[39m pd\u001b[39m.\u001b[39mDataFrame(np\u001b[39m.\u001b[39marray(tag_lst), columns\u001b[39m=\u001b[39mcolnames)\n",
      "\u001b[0;31mNameError\u001b[0m: name 'colnames' is not defined"
     ]
    }
   ],
   "source": [
    "tag_lst = get_data(RNAspcies = \"lncRNA\", fasta = \"lncRNA_all_data_seq.fasta\")\n",
    "df = pd.DataFrame(np.array(tag_lst), columns=colnames)"
   ]
  },
  {
   "cell_type": "code",
   "execution_count": 17,
   "metadata": {},
   "outputs": [
    {
     "data": {
      "text/html": [
       "<div>\n",
       "<style scoped>\n",
       "    .dataframe tbody tr th:only-of-type {\n",
       "        vertical-align: middle;\n",
       "    }\n",
       "\n",
       "    .dataframe tbody tr th {\n",
       "        vertical-align: top;\n",
       "    }\n",
       "\n",
       "    .dataframe thead th {\n",
       "        text-align: right;\n",
       "    }\n",
       "</style>\n",
       "<table border=\"1\" class=\"dataframe\">\n",
       "  <thead>\n",
       "    <tr style=\"text-align: right;\">\n",
       "      <th></th>\n",
       "      <th>Gene_ID</th>\n",
       "      <th>Gene_Name</th>\n",
       "      <th>mRNA_type</th>\n",
       "      <th>seq_length</th>\n",
       "      <th>Nucleus</th>\n",
       "      <th>Exosome</th>\n",
       "      <th>Cytosol</th>\n",
       "      <th>Cytoplasm</th>\n",
       "      <th>Ribosome</th>\n",
       "      <th>Membrane</th>\n",
       "      <th>Endoplasmic reticulum</th>\n",
       "    </tr>\n",
       "  </thead>\n",
       "  <tbody>\n",
       "    <tr>\n",
       "      <th>0</th>\n",
       "      <td>9834</td>\n",
       "      <td>KIAA0125\\n</td>\n",
       "      <td>lncRNA</td>\n",
       "      <td>2764.0</td>\n",
       "      <td>0.0</td>\n",
       "      <td>1.0</td>\n",
       "      <td>0.0</td>\n",
       "      <td>0.0</td>\n",
       "      <td>0.0</td>\n",
       "      <td>0.0</td>\n",
       "      <td>0.0</td>\n",
       "    </tr>\n",
       "    <tr>\n",
       "      <th>1</th>\n",
       "      <td>100128640</td>\n",
       "      <td>ACVR2B-AS1</td>\n",
       "      <td>lncRNA</td>\n",
       "      <td>3169.0</td>\n",
       "      <td>0.0</td>\n",
       "      <td>1.0</td>\n",
       "      <td>0.0</td>\n",
       "      <td>0.0</td>\n",
       "      <td>0.0</td>\n",
       "      <td>0.0</td>\n",
       "      <td>0.0</td>\n",
       "    </tr>\n",
       "    <tr>\n",
       "      <th>2</th>\n",
       "      <td>101929484</td>\n",
       "      <td>LINC01615</td>\n",
       "      <td>lncRNA</td>\n",
       "      <td>1633.0</td>\n",
       "      <td>0.0</td>\n",
       "      <td>1.0</td>\n",
       "      <td>0.0</td>\n",
       "      <td>0.0</td>\n",
       "      <td>0.0</td>\n",
       "      <td>0.0</td>\n",
       "      <td>0.0</td>\n",
       "    </tr>\n",
       "    <tr>\n",
       "      <th>3</th>\n",
       "      <td>100874363</td>\n",
       "      <td>HOXC-AS1</td>\n",
       "      <td>lncRNA</td>\n",
       "      <td>3228.0</td>\n",
       "      <td>1.0</td>\n",
       "      <td>1.0</td>\n",
       "      <td>0.0</td>\n",
       "      <td>1.0</td>\n",
       "      <td>0.0</td>\n",
       "      <td>0.0</td>\n",
       "      <td>0.0</td>\n",
       "    </tr>\n",
       "    <tr>\n",
       "      <th>4</th>\n",
       "      <td>643862</td>\n",
       "      <td>SPDYE10P</td>\n",
       "      <td>lncRNA</td>\n",
       "      <td>3615.0</td>\n",
       "      <td>0.0</td>\n",
       "      <td>1.0</td>\n",
       "      <td>0.0</td>\n",
       "      <td>0.0</td>\n",
       "      <td>0.0</td>\n",
       "      <td>0.0</td>\n",
       "      <td>0.0</td>\n",
       "    </tr>\n",
       "    <tr>\n",
       "      <th>...</th>\n",
       "      <td>...</td>\n",
       "      <td>...</td>\n",
       "      <td>...</td>\n",
       "      <td>...</td>\n",
       "      <td>...</td>\n",
       "      <td>...</td>\n",
       "      <td>...</td>\n",
       "      <td>...</td>\n",
       "      <td>...</td>\n",
       "      <td>...</td>\n",
       "      <td>...</td>\n",
       "    </tr>\n",
       "    <tr>\n",
       "      <th>3606</th>\n",
       "      <td>101101692</td>\n",
       "      <td>HELLPAR</td>\n",
       "      <td>lncRNA</td>\n",
       "      <td>205012.0</td>\n",
       "      <td>1.0</td>\n",
       "      <td>1.0</td>\n",
       "      <td>1.0</td>\n",
       "      <td>0.0</td>\n",
       "      <td>0.0</td>\n",
       "      <td>0.0</td>\n",
       "      <td>0.0</td>\n",
       "    </tr>\n",
       "    <tr>\n",
       "      <th>3607</th>\n",
       "      <td>106144528</td>\n",
       "      <td>DENND6A-AS1</td>\n",
       "      <td>lncRNA</td>\n",
       "      <td>364.0</td>\n",
       "      <td>1.0</td>\n",
       "      <td>1.0</td>\n",
       "      <td>0.0</td>\n",
       "      <td>0.0</td>\n",
       "      <td>0.0</td>\n",
       "      <td>0.0</td>\n",
       "      <td>0.0</td>\n",
       "    </tr>\n",
       "    <tr>\n",
       "      <th>3608</th>\n",
       "      <td>120766143</td>\n",
       "      <td>RP11-843B15.2</td>\n",
       "      <td>lncRNA</td>\n",
       "      <td>61316.0</td>\n",
       "      <td>0.0</td>\n",
       "      <td>1.0</td>\n",
       "      <td>0.0</td>\n",
       "      <td>0.0</td>\n",
       "      <td>0.0</td>\n",
       "      <td>0.0</td>\n",
       "      <td>0.0</td>\n",
       "    </tr>\n",
       "    <tr>\n",
       "      <th>3609</th>\n",
       "      <td>100874272</td>\n",
       "      <td>KLF7-IT1</td>\n",
       "      <td>lncRNA</td>\n",
       "      <td>655.0</td>\n",
       "      <td>0.0</td>\n",
       "      <td>1.0</td>\n",
       "      <td>0.0</td>\n",
       "      <td>0.0</td>\n",
       "      <td>0.0</td>\n",
       "      <td>0.0</td>\n",
       "      <td>0.0</td>\n",
       "    </tr>\n",
       "    <tr>\n",
       "      <th>3610</th>\n",
       "      <td>100874266</td>\n",
       "      <td>LYST-AS1</td>\n",
       "      <td>lncRNA</td>\n",
       "      <td>521.0</td>\n",
       "      <td>0.0</td>\n",
       "      <td>1.0</td>\n",
       "      <td>0.0</td>\n",
       "      <td>0.0</td>\n",
       "      <td>0.0</td>\n",
       "      <td>0.0</td>\n",
       "      <td>0.0</td>\n",
       "    </tr>\n",
       "  </tbody>\n",
       "</table>\n",
       "<p>3611 rows × 11 columns</p>\n",
       "</div>"
      ],
      "text/plain": [
       "        Gene_ID      Gene_Name mRNA_type  seq_length  Nucleus  Exosome  \\\n",
       "0          9834     KIAA0125\\n    lncRNA      2764.0      0.0      1.0   \n",
       "1     100128640     ACVR2B-AS1    lncRNA      3169.0      0.0      1.0   \n",
       "2     101929484      LINC01615    lncRNA      1633.0      0.0      1.0   \n",
       "3     100874363       HOXC-AS1    lncRNA      3228.0      1.0      1.0   \n",
       "4        643862       SPDYE10P    lncRNA      3615.0      0.0      1.0   \n",
       "...         ...            ...       ...         ...      ...      ...   \n",
       "3606  101101692        HELLPAR    lncRNA    205012.0      1.0      1.0   \n",
       "3607  106144528    DENND6A-AS1    lncRNA       364.0      1.0      1.0   \n",
       "3608  120766143  RP11-843B15.2    lncRNA     61316.0      0.0      1.0   \n",
       "3609  100874272       KLF7-IT1    lncRNA       655.0      0.0      1.0   \n",
       "3610  100874266       LYST-AS1    lncRNA       521.0      0.0      1.0   \n",
       "\n",
       "      Cytosol  Cytoplasm  Ribosome  Membrane  Endoplasmic reticulum  \n",
       "0         0.0        0.0       0.0       0.0                    0.0  \n",
       "1         0.0        0.0       0.0       0.0                    0.0  \n",
       "2         0.0        0.0       0.0       0.0                    0.0  \n",
       "3         0.0        1.0       0.0       0.0                    0.0  \n",
       "4         0.0        0.0       0.0       0.0                    0.0  \n",
       "...       ...        ...       ...       ...                    ...  \n",
       "3606      1.0        0.0       0.0       0.0                    0.0  \n",
       "3607      0.0        0.0       0.0       0.0                    0.0  \n",
       "3608      0.0        0.0       0.0       0.0                    0.0  \n",
       "3609      0.0        0.0       0.0       0.0                    0.0  \n",
       "3610      0.0        0.0       0.0       0.0                    0.0  \n",
       "\n",
       "[3611 rows x 11 columns]"
      ]
     },
     "execution_count": 17,
     "metadata": {},
     "output_type": "execute_result"
    }
   ],
   "source": [
    "for i in colnames[3:]:\n",
    "    df[i] = df[i].astype(float)\n",
    "df"
   ]
  },
  {
   "cell_type": "code",
   "execution_count": 19,
   "metadata": {},
   "outputs": [
    {
     "data": {
      "text/plain": [
       "Nucleus                   727.0\n",
       "Exosome                  3516.0\n",
       "Cytosol                   214.0\n",
       "Cytoplasm                 105.0\n",
       "Ribosome                    8.0\n",
       "Membrane                    0.0\n",
       "Endoplasmic reticulum       0.0\n",
       "dtype: float64"
      ]
     },
     "execution_count": 19,
     "metadata": {},
     "output_type": "execute_result"
    }
   ],
   "source": [
    "df.iloc[:,-7:].sum(axis=0)\n"
   ]
  },
  {
   "cell_type": "code",
   "execution_count": null,
   "metadata": {},
   "outputs": [],
   "source": []
  },
  {
   "attachments": {},
   "cell_type": "markdown",
   "metadata": {},
   "source": [
    "Building the dataframe for visualization"
   ]
  },
  {
   "cell_type": "code",
   "execution_count": 20,
   "metadata": {},
   "outputs": [
    {
     "data": {
      "text/html": [
       "<div>\n",
       "<style scoped>\n",
       "    .dataframe tbody tr th:only-of-type {\n",
       "        vertical-align: middle;\n",
       "    }\n",
       "\n",
       "    .dataframe tbody tr th {\n",
       "        vertical-align: top;\n",
       "    }\n",
       "\n",
       "    .dataframe thead th {\n",
       "        text-align: right;\n",
       "    }\n",
       "</style>\n",
       "<table border=\"1\" class=\"dataframe\">\n",
       "  <thead>\n",
       "    <tr style=\"text-align: right;\">\n",
       "      <th></th>\n",
       "      <th>0</th>\n",
       "      <th>1</th>\n",
       "      <th>2</th>\n",
       "    </tr>\n",
       "  </thead>\n",
       "  <tbody>\n",
       "    <tr>\n",
       "      <th>Nucleus</th>\n",
       "      <td>False</td>\n",
       "      <td>False</td>\n",
       "      <td>False</td>\n",
       "    </tr>\n",
       "    <tr>\n",
       "      <th>Exosome</th>\n",
       "      <td>True</td>\n",
       "      <td>True</td>\n",
       "      <td>True</td>\n",
       "    </tr>\n",
       "    <tr>\n",
       "      <th>Cytosol</th>\n",
       "      <td>False</td>\n",
       "      <td>False</td>\n",
       "      <td>False</td>\n",
       "    </tr>\n",
       "    <tr>\n",
       "      <th>Cytoplasm</th>\n",
       "      <td>False</td>\n",
       "      <td>False</td>\n",
       "      <td>False</td>\n",
       "    </tr>\n",
       "    <tr>\n",
       "      <th>Ribosome</th>\n",
       "      <td>False</td>\n",
       "      <td>False</td>\n",
       "      <td>False</td>\n",
       "    </tr>\n",
       "    <tr>\n",
       "      <th>Membrane</th>\n",
       "      <td>False</td>\n",
       "      <td>False</td>\n",
       "      <td>False</td>\n",
       "    </tr>\n",
       "    <tr>\n",
       "      <th>Endoplasmic reticulum</th>\n",
       "      <td>False</td>\n",
       "      <td>False</td>\n",
       "      <td>False</td>\n",
       "    </tr>\n",
       "  </tbody>\n",
       "</table>\n",
       "</div>"
      ],
      "text/plain": [
       "                           0      1      2\n",
       "Nucleus                False  False  False\n",
       "Exosome                 True   True   True\n",
       "Cytosol                False  False  False\n",
       "Cytoplasm              False  False  False\n",
       "Ribosome               False  False  False\n",
       "Membrane               False  False  False\n",
       "Endoplasmic reticulum  False  False  False"
      ]
     },
     "execution_count": 20,
     "metadata": {},
     "output_type": "execute_result"
    }
   ],
   "source": [
    "genres = list(colnames[4:])\n",
    "df[genres] = df[genres] == 1\n",
    "df[genres].head(3).T"
   ]
  },
  {
   "cell_type": "code",
   "execution_count": 22,
   "metadata": {},
   "outputs": [],
   "source": [
    "%R -i df -i genres"
   ]
  },
  {
   "cell_type": "code",
   "execution_count": 23,
   "metadata": {},
   "outputs": [],
   "source": [
    "%%R\n",
    "library(ggplot2)\n",
    "library(ComplexUpset)"
   ]
  },
  {
   "cell_type": "code",
   "execution_count": 24,
   "metadata": {},
   "outputs": [
    {
     "data": {
      "image/png": "[encoded data removed]",
      "text/plain": [
       "<IPython.core.display.Image object>"
      ]
     },
     "metadata": {},
     "output_type": "display_data"
    }
   ],
   "source": [
    "%%R -w 800 -h 300\n",
    "upset(df, genres, name='genre', width_ratio=0.1)"
   ]
  },
  {
   "attachments": {},
   "cell_type": "markdown",
   "metadata": {},
   "source": [
    "Plotting the data"
   ]
  },
  {
   "attachments": {},
   "cell_type": "markdown",
   "metadata": {},
   "source": []
  }
 ],
 "metadata": {
  "kernelspec": {
   "display_name": "deeploc_torch",
   "language": "python",
   "name": "python3"
  },
  "language_info": {
   "codemirror_mode": {
    "name": "ipython",
    "version": 3
   },
   "file_extension": ".py",
   "mimetype": "text/x-python",
   "name": "python",
   "nbconvert_exporter": "python",
   "pygments_lexer": "ipython3",
   "version": "3.8.17"
  },
  "orig_nbformat": 4
 },
 "nbformat": 4,
 "nbformat_minor": 2
}
